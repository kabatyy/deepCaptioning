{
  "nbformat": 4,
  "nbformat_minor": 0,
  "metadata": {
    "colab": {
      "provenance": [],
      "gpuType": "T4",
      "authorship_tag": "ABX9TyNOA5dueCQzgOHWRG8DhDzi",
      "include_colab_link": true
    },
    "kernelspec": {
      "name": "python3",
      "display_name": "Python 3"
    },
    "language_info": {
      "name": "python"
    },
    "accelerator": "GPU"
  },
  "cells": [
    {
      "cell_type": "markdown",
      "metadata": {
        "id": "view-in-github",
        "colab_type": "text"
      },
      "source": [
        "<a href=\"https://colab.research.google.com/github/kabatyy/deepCaptioning/blob/main/dataset.ipynb\" target=\"_parent\"><img src=\"https://colab.research.google.com/assets/colab-badge.svg\" alt=\"Open In Colab\"/></a>"
      ]
    },
    {
      "cell_type": "code",
      "source": [
        "import os\n",
        "import shutil\n",
        "import subprocess\n"
      ],
      "metadata": {
        "id": "yOW_TfamKsJu"
      },
      "execution_count": 1,
      "outputs": []
    },
    {
      "cell_type": "code",
      "execution_count": 2,
      "metadata": {
        "id": "e_yNl9IkA-iJ"
      },
      "outputs": [],
      "source": [
        "GIT_REPO_URL = \"https://github.com/kabatyy/deepCaptioning.git\"\n",
        "COCO_API_REPO = \"https://github.com/cocodataset/cocoapi.git\"\n",
        "DIR = \"/content/project\"\n",
        "CLONE_DIR = os.path.join(DIR, \"deepCaptioning\")\n",
        "\n",
        "def clone_repo():\n",
        "    os.makedirs(DIR, exist_ok = True)\n",
        "    os.chdir(DIR)\n",
        "    if os.path.exists(CLONE_DIR):\n",
        "        print(f\"Repo already exists at {CLONE_DIR}, skipping clone.\")\n",
        "    else:\n",
        "        subprocess.run([\"git\", \"clone\", GIT_REPO_URL], check=True)\n",
        "        print(f\"Repository cloned. Cloning COCO API...\")\n",
        "        os.chdir(\"/content/project/deepCaptioning\")\n",
        "        subprocess.run([\"git\", \"clone\", COCO_API_REPO], check=True)\n",
        "\n",
        "def process_dataset():\n",
        "  subprocess.run([\"python3\", 'start.py'], check=True)\n",
        "  print(\"Dataset processing completed.\")\n",
        "\n",
        "def install_cocoapi():\n",
        "  os.chdir(\"/content/project/deepCaptioning/cocoapi/PythonAPI\")\n",
        "  subprocess.run([\"make\"], check=True)\n",
        "  print(\"COCO API installation completed.\")"
      ]
    },
    {
      "cell_type": "code",
      "source": [
        "print(\"Cloning repo...\")\n",
        "clone_repo()"
      ],
      "metadata": {
        "colab": {
          "base_uri": "https://localhost:8080/"
        },
        "id": "VWc_bgHuBC3O",
        "outputId": "6afda93a-32ce-49d2-d631-5c86d1f9aa76"
      },
      "execution_count": 3,
      "outputs": [
        {
          "output_type": "stream",
          "name": "stdout",
          "text": [
            "Cloning repo...\n",
            "Repository cloned. cLONING COCO API...\n"
          ]
        }
      ]
    },
    {
      "cell_type": "code",
      "source": [
        "print(\"Processing dataset...\")\n",
        "process_dataset()"
      ],
      "metadata": {
        "colab": {
          "base_uri": "https://localhost:8080/"
        },
        "id": "aWzq7wLOBVBG",
        "outputId": "f9528e3e-673e-4e9f-c312-f485bda747d2"
      },
      "execution_count": 4,
      "outputs": [
        {
          "output_type": "stream",
          "name": "stdout",
          "text": [
            "Processing dataset...\n",
            "Dataset processing completed.\n"
          ]
        }
      ]
    },
    {
      "cell_type": "code",
      "source": [
        "print(\"Installing COCO API...\")\n",
        "install_cocoapi()\n"
      ],
      "metadata": {
        "colab": {
          "base_uri": "https://localhost:8080/"
        },
        "id": "FpyWzLaYHsgk",
        "outputId": "88cf2ce4-f99c-404b-ef63-dd22afbcffb4"
      },
      "execution_count": 5,
      "outputs": [
        {
          "output_type": "stream",
          "name": "stdout",
          "text": [
            "Installing COCO API...\n",
            "COCO API installation completed.\n"
          ]
        }
      ]
    }
  ]
}